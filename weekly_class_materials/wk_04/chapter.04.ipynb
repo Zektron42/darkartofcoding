{
 "cells": [
  {
   "cell_type": "markdown",
   "metadata": {
    "slideshow": {
     "slide_type": "slide"
    }
   },
   "source": [
    "<h1>Welcome to the Dark Art of Coding:</h1>\n",
    "<h2>Introduction to Python</h2>\n",
    "Chapter 04: Lists"
   ]
  },
  {
   "cell_type": "markdown",
   "metadata": {
    "slideshow": {
     "slide_type": "slide"
    }
   },
   "source": [
    "<h1>Today's class</h1>\n",
    "<ul>\n",
    "<li><strong>Review and Questions?</strong></li>\n",
    "<li><strong>Objectives:</strong></li>\n",
    "<ul>\n",
    "    <li><strong>What is a list?</strong></li>\n",
    "    <li><strong>List indexes</strong></li>\n",
    "    <li><strong>Using lists</strong></li>\n",
    "    <li><strong>Augmented Assignment</strong></li>\n",
    "    <li><strong>Using and understanding methods</strong></li>\n",
    "</ul>\n",
    "<li><strong>In-class Practice</strong></li>\n",
    "</ul>"
   ]
  },
  {
   "cell_type": "markdown",
   "metadata": {
    "slideshow": {
     "slide_type": "slide"
    }
   },
   "source": [
    "<h1>Review and Questions?</h1>\n",
    "<ul>\n",
    "<li><strong>Functions</strong></li>\n",
    "    <li><strong>Defining</strong></li>\n",
    "    <li><strong>Passing Arguments</strong></li>\n",
    "    <li><strong>Returning values</strong></li>\n",
    "    <li><strong>Keyword arguments</strong></li>\n",
    "    <li><strong>Global and Local scope</strong></li>\n",
    "</ul>"
   ]
  },
  {
   "cell_type": "markdown",
   "metadata": {
    "slideshow": {
     "slide_type": "slide"
    }
   },
   "source": [
    "<h1>What is a list?</h1>"
   ]
  },
  {
   "cell_type": "code",
   "execution_count": 1,
   "metadata": {
    "collapsed": false,
    "slideshow": {
     "slide_type": "slide"
    }
   },
   "outputs": [
    {
     "name": "stdout",
     "output_type": "stream",
     "text": [
      "['Batman', 'Green lantern', 'Aquaman', 'Flash']\n"
     ]
    }
   ],
   "source": [
    "heroes = ['Batman', 'Green lantern', 'Aquaman', 'Flash']\n",
    "print(heroes)"
   ]
  },
  {
   "cell_type": "code",
   "execution_count": 2,
   "metadata": {
    "collapsed": false,
    "slideshow": {
     "slide_type": "fragment"
    }
   },
   "outputs": [
    {
     "name": "stdout",
     "output_type": "stream",
     "text": [
      "Batman\n",
      "Green lantern\n",
      "Aquaman\n",
      "Flash\n"
     ]
    }
   ],
   "source": [
    "print(heroes[0])\n",
    "print(heroes[1])\n",
    "print(heroes[2])\n",
    "print(heroes[3])"
   ]
  },
  {
   "cell_type": "code",
   "execution_count": 3,
   "metadata": {
    "collapsed": false,
    "slideshow": {
     "slide_type": "fragment"
    }
   },
   "outputs": [
    {
     "name": "stdout",
     "output_type": "stream",
     "text": [
      "The Batman was totally way cooler than Aquaman\n"
     ]
    }
   ],
   "source": [
    "print('The ' + heroes[0] + ' was totally way cooler than ' + heroes[2])"
   ]
  },
  {
   "cell_type": "code",
   "execution_count": 4,
   "metadata": {
    "collapsed": false,
    "slideshow": {
     "slide_type": "slide"
    }
   },
   "outputs": [
    {
     "ename": "TypeError",
     "evalue": "list indices must be integers, not float",
     "output_type": "error",
     "traceback": [
      "\u001b[0;31m---------------------------------------------------------------------------\u001b[0m",
      "\u001b[0;31mTypeError\u001b[0m                                 Traceback (most recent call last)",
      "\u001b[0;32m<ipython-input-4-93c388a5fa90>\u001b[0m in \u001b[0;36m<module>\u001b[0;34m()\u001b[0m\n\u001b[0;32m----> 1\u001b[0;31m \u001b[0mheroes\u001b[0m\u001b[0;34m[\u001b[0m\u001b[0;36m1.0\u001b[0m\u001b[0;34m]\u001b[0m\u001b[0;34m\u001b[0m\u001b[0m\n\u001b[0m",
      "\u001b[0;31mTypeError\u001b[0m: list indices must be integers, not float"
     ]
    }
   ],
   "source": [
    "heroes[1.0]"
   ]
  },
  {
   "cell_type": "code",
   "execution_count": 5,
   "metadata": {
    "collapsed": false,
    "slideshow": {
     "slide_type": "fragment"
    }
   },
   "outputs": [
    {
     "data": {
      "text/plain": [
       "'Green lantern'"
      ]
     },
     "execution_count": 5,
     "metadata": {},
     "output_type": "execute_result"
    }
   ],
   "source": [
    "heroes[int(1.0)]"
   ]
  },
  {
   "cell_type": "code",
   "execution_count": 6,
   "metadata": {
    "collapsed": false,
    "slideshow": {
     "slide_type": "fragment"
    }
   },
   "outputs": [
    {
     "ename": "IndexError",
     "evalue": "list index out of range",
     "output_type": "error",
     "traceback": [
      "\u001b[0;31m---------------------------------------------------------------------------\u001b[0m",
      "\u001b[0;31mIndexError\u001b[0m                                Traceback (most recent call last)",
      "\u001b[0;32m<ipython-input-6-7418209f89af>\u001b[0m in \u001b[0;36m<module>\u001b[0;34m()\u001b[0m\n\u001b[0;32m----> 1\u001b[0;31m \u001b[0mheroes\u001b[0m\u001b[0;34m[\u001b[0m\u001b[0;36m42\u001b[0m\u001b[0;34m]\u001b[0m\u001b[0;34m\u001b[0m\u001b[0m\n\u001b[0m",
      "\u001b[0;31mIndexError\u001b[0m: list index out of range"
     ]
    }
   ],
   "source": [
    "heroes[42]"
   ]
  },
  {
   "cell_type": "code",
   "execution_count": 65,
   "metadata": {
    "collapsed": false,
    "slideshow": {
     "slide_type": "slide"
    }
   },
   "outputs": [
    {
     "name": "stdout",
     "output_type": "stream",
     "text": [
      "heroes  @ index 0: ['wonder woman', 'zatanna']\n",
      "heroine @ index 0: wonder woman\n",
      "heroine @ index 1: zatanna\n"
     ]
    }
   ],
   "source": [
    "more_heroes = [['wonder woman', 'zatanna'], ['batman', 'flash', 'aquaman']]\n",
    "\n",
    "heroines = more_heroes[0]\n",
    "print('heroes  @ index 0:', heroines)\n",
    "\n",
    "heroine1 = more_heroes[0][0]\n",
    "print('heroine @ index 0:', heroine1)\n",
    "\n",
    "heroine2 = more_heroes[0][1]\n",
    "print('heroine @ index 1:', heroine2)\n"
   ]
  },
  {
   "cell_type": "code",
   "execution_count": 8,
   "metadata": {
    "collapsed": false,
    "slideshow": {
     "slide_type": "slide"
    }
   },
   "outputs": [
    {
     "name": "stdout",
     "output_type": "stream",
     "text": [
      "['Batman', 'Green lantern', 'Aquaman', 'Flash']\n",
      "heroes @ index -1: Flash\n",
      "heroes @ index -2: Aquaman\n"
     ]
    }
   ],
   "source": [
    "print(heroes)\n",
    "\n",
    "print('heroes @ index -1:', heroes[-1])\n",
    "print('heroes @ index -2:', heroes[-2])"
   ]
  },
  {
   "cell_type": "code",
   "execution_count": 9,
   "metadata": {
    "collapsed": false,
    "slideshow": {
     "slide_type": "slide"
    }
   },
   "outputs": [
    {
     "name": "stdout",
     "output_type": "stream",
     "text": [
      "sliced from 0 upto but not including 4: ['Batman', 'Green lantern', 'Aquaman', 'Flash']\n",
      "sliced from 1 upto but not including 3: ['Green lantern', 'Aquaman']\n",
      "sliced from 0 upto but not including -1: ['Batman', 'Green lantern', 'Aquaman']\n",
      "sliced from 0 upto but not including 4: ['Batman', 'Green lantern', 'Aquaman', 'Flash']\n"
     ]
    }
   ],
   "source": [
    "print('sliced from 0 upto but not including 4:', heroes[0:4])\n",
    "\n",
    "print('sliced from 1 upto but not including 3:', heroes[1:3],)\n",
    "\n",
    "print('sliced from 0 upto but not including -1:', heroes[0:-1])\n",
    "\n",
    "print('sliced from 0 upto but not including 4:', heroes[:4])\n",
    "\n",
    "hero_copy = heroes[:]                # syntax is often used to make a copy of a list"
   ]
  },
  {
   "cell_type": "code",
   "execution_count": 10,
   "metadata": {
    "collapsed": false,
    "slideshow": {
     "slide_type": "slide"
    }
   },
   "outputs": [
    {
     "data": {
      "text/plain": [
       "4"
      ]
     },
     "execution_count": 10,
     "metadata": {},
     "output_type": "execute_result"
    }
   ],
   "source": [
    "len(heroes)"
   ]
  },
  {
   "cell_type": "code",
   "execution_count": 11,
   "metadata": {
    "collapsed": false,
    "slideshow": {
     "slide_type": "fragment"
    }
   },
   "outputs": [
    {
     "data": {
      "text/plain": [
       "2"
      ]
     },
     "execution_count": 11,
     "metadata": {},
     "output_type": "execute_result"
    }
   ],
   "source": [
    "len(heroines)"
   ]
  },
  {
   "cell_type": "code",
   "execution_count": 12,
   "metadata": {
    "collapsed": false,
    "slideshow": {
     "slide_type": "fragment"
    }
   },
   "outputs": [
    {
     "name": "stdout",
     "output_type": "stream",
     "text": [
      "[['wonder woman', 'zatanna'], ['batman', 'flash', 'aquaman']]\n"
     ]
    },
    {
     "data": {
      "text/plain": [
       "2"
      ]
     },
     "execution_count": 12,
     "metadata": {},
     "output_type": "execute_result"
    }
   ],
   "source": [
    "print(more_heroes)\n",
    "len(more_heroes[0])"
   ]
  },
  {
   "cell_type": "code",
   "execution_count": 13,
   "metadata": {
    "collapsed": false,
    "slideshow": {
     "slide_type": "fragment"
    }
   },
   "outputs": [
    {
     "name": "stdout",
     "output_type": "stream",
     "text": [
      "[['wonder woman', 'zatanna'], ['batman', 'flash', 'aquaman']]\n"
     ]
    },
    {
     "data": {
      "text/plain": [
       "7"
      ]
     },
     "execution_count": 13,
     "metadata": {},
     "output_type": "execute_result"
    }
   ],
   "source": [
    "print(more_heroes)\n",
    "len(more_heroes[0][1])"
   ]
  },
  {
   "cell_type": "code",
   "execution_count": 14,
   "metadata": {
    "collapsed": false,
    "slideshow": {
     "slide_type": "slide"
    }
   },
   "outputs": [
    {
     "name": "stdout",
     "output_type": "stream",
     "text": [
      "['Batman', 'Green lantern', 'Aquaman', 'Flash']\n",
      "['Batman', 'Green lantern', 'Supergirl', 'Flash']\n"
     ]
    }
   ],
   "source": [
    "print(heroes)\n",
    "heroes[2] = 'Supergirl'\n",
    "print(heroes)"
   ]
  },
  {
   "cell_type": "code",
   "execution_count": 15,
   "metadata": {
    "collapsed": false,
    "slideshow": {
     "slide_type": "fragment"
    }
   },
   "outputs": [
    {
     "name": "stdout",
     "output_type": "stream",
     "text": [
      "['Batman', 'Green lantern', 'Supergirl', 'Green lantern']\n"
     ]
    }
   ],
   "source": [
    "heroes[3] = heroes[1]\n",
    "print(heroes)"
   ]
  },
  {
   "cell_type": "code",
   "execution_count": 16,
   "metadata": {
    "collapsed": false,
    "slideshow": {
     "slide_type": "slide"
    }
   },
   "outputs": [
    {
     "data": {
      "text/plain": [
       "[1, 2, 3, 'Z', 'Y', 'X']"
      ]
     },
     "execution_count": 16,
     "metadata": {},
     "output_type": "execute_result"
    }
   ],
   "source": [
    "[1, 2, 3] + ['Z', 'Y', 'X']\n"
   ]
  },
  {
   "cell_type": "code",
   "execution_count": 17,
   "metadata": {
    "collapsed": false,
    "slideshow": {
     "slide_type": "fragment"
    }
   },
   "outputs": [
    {
     "data": {
      "text/plain": [
       "[1, 2, 3, 1, 2, 3, 1, 2, 3, 1, 2, 3]"
      ]
     },
     "execution_count": 17,
     "metadata": {},
     "output_type": "execute_result"
    }
   ],
   "source": [
    "[1, 2, 3] * 4"
   ]
  },
  {
   "cell_type": "code",
   "execution_count": 18,
   "metadata": {
    "collapsed": false,
    "slideshow": {
     "slide_type": "fragment"
    }
   },
   "outputs": [
    {
     "name": "stdout",
     "output_type": "stream",
     "text": [
      "['Batman', 'Green lantern', 'Supergirl', 'Green lantern', 1, 2, 3]\n"
     ]
    }
   ],
   "source": [
    "mix = heroes + [1, 2, 3]\n",
    "print(mix)"
   ]
  },
  {
   "cell_type": "code",
   "execution_count": 19,
   "metadata": {
    "collapsed": false,
    "slideshow": {
     "slide_type": "slide"
    }
   },
   "outputs": [
    {
     "name": "stdout",
     "output_type": "stream",
     "text": [
      "['Batman', 'Green lantern', 'Supergirl', 'Green lantern', 1, 2, 3]\n"
     ]
    }
   ],
   "source": [
    "print(mix)"
   ]
  },
  {
   "cell_type": "code",
   "execution_count": 20,
   "metadata": {
    "collapsed": false,
    "slideshow": {
     "slide_type": "fragment"
    }
   },
   "outputs": [
    {
     "name": "stdout",
     "output_type": "stream",
     "text": [
      "['Batman', 'Supergirl', 'Green lantern', 1, 2, 3]\n"
     ]
    }
   ],
   "source": [
    "del mix[1]\n",
    "print(mix)\n",
    "\n"
   ]
  },
  {
   "cell_type": "code",
   "execution_count": 21,
   "metadata": {
    "collapsed": false,
    "slideshow": {
     "slide_type": "fragment"
    }
   },
   "outputs": [
    {
     "ename": "NameError",
     "evalue": "name 'mix' is not defined",
     "output_type": "error",
     "traceback": [
      "\u001b[0;31m---------------------------------------------------------------------------\u001b[0m",
      "\u001b[0;31mNameError\u001b[0m                                 Traceback (most recent call last)",
      "\u001b[0;32m<ipython-input-21-79c56b4547a5>\u001b[0m in \u001b[0;36m<module>\u001b[0;34m()\u001b[0m\n\u001b[1;32m      1\u001b[0m \u001b[0;32mdel\u001b[0m \u001b[0mmix\u001b[0m\u001b[0;34m\u001b[0m\u001b[0m\n\u001b[0;32m----> 2\u001b[0;31m \u001b[0mprint\u001b[0m\u001b[0;34m(\u001b[0m\u001b[0mmix\u001b[0m\u001b[0;34m)\u001b[0m\u001b[0;34m\u001b[0m\u001b[0m\n\u001b[0m",
      "\u001b[0;31mNameError\u001b[0m: name 'mix' is not defined"
     ]
    }
   ],
   "source": [
    "del mix\n",
    "print(mix)"
   ]
  },
  {
   "cell_type": "code",
   "execution_count": 22,
   "metadata": {
    "collapsed": false,
    "slideshow": {
     "slide_type": "slide"
    }
   },
   "outputs": [
    {
     "name": "stdout",
     "output_type": "stream",
     "text": [
      "Enter hero name: 1: OR Enter to quit\n",
      "batman\n",
      "Enter hero name: 2: OR Enter to quit\n",
      "superman\n",
      "Enter hero name: 3: OR Enter to quit\n",
      "zatanna\n",
      "Enter hero name: 4: OR Enter to quit\n",
      "flash\n",
      "Enter hero name: 5: OR Enter to quit\n",
      "wonder woman\n",
      "Enter hero name: 6: OR Enter to quit\n",
      "\n",
      "Your heroes include: \n",
      "batman\n",
      "superman\n",
      "zatanna\n",
      "flash\n",
      "wonder woman\n"
     ]
    }
   ],
   "source": [
    "hero_names = []\n",
    "while True:\n",
    "     print('Enter hero name: ' + str(len(hero_names) + 1) + ': OR Enter to quit')\n",
    "     name = input()   \n",
    "     if name == '':\n",
    "            break\n",
    "     hero_names = hero_names + [name] \n",
    "\n",
    "# when done with the concatenations...\n",
    "print('Your heroes include: ')\n",
    "for name in hero_names:\n",
    "    print(name)"
   ]
  },
  {
   "cell_type": "code",
   "execution_count": 23,
   "metadata": {
    "collapsed": false,
    "slideshow": {
     "slide_type": "slide"
    }
   },
   "outputs": [
    {
     "name": "stdout",
     "output_type": "stream",
     "text": [
      "10\n",
      "20\n",
      "30\n",
      "40\n"
     ]
    }
   ],
   "source": [
    "for number in [10, 20, 30, 40]:\n",
    "    print(number)"
   ]
  },
  {
   "cell_type": "code",
   "execution_count": 32,
   "metadata": {
    "collapsed": false,
    "slideshow": {
     "slide_type": "slide"
    }
   },
   "outputs": [
    {
     "name": "stdout",
     "output_type": "stream",
     "text": [
      "Weapon: batarang\t Indexed as 0\n",
      "Weapon: golden lasso\t Indexed as 1\n",
      "Weapon: a trident\t Indexed as 2\n",
      "Weapon: an arrow\t Indexed as 3\n"
     ]
    }
   ],
   "source": [
    "weapons = ['batarang', 'golden lasso', 'a trident', 'an arrow']\n",
    "for index in range(len(weapons)):\n",
    "    print('Weapon: ' + weapons[index] + '\\t Indexed as ' + str(index))"
   ]
  },
  {
   "cell_type": "code",
   "execution_count": 34,
   "metadata": {
    "collapsed": false,
    "slideshow": {
     "slide_type": "slide"
    }
   },
   "outputs": [
    {
     "data": {
      "text/plain": [
       "True"
      ]
     },
     "execution_count": 34,
     "metadata": {},
     "output_type": "execute_result"
    }
   ],
   "source": [
    "'batarang' in weapons"
   ]
  },
  {
   "cell_type": "code",
   "execution_count": 35,
   "metadata": {
    "collapsed": false,
    "slideshow": {
     "slide_type": "fragment"
    }
   },
   "outputs": [
    {
     "data": {
      "text/plain": [
       "True"
      ]
     },
     "execution_count": 35,
     "metadata": {},
     "output_type": "execute_result"
    }
   ],
   "source": [
    "'bullet' not in weapons"
   ]
  },
  {
   "cell_type": "code",
   "execution_count": 41,
   "metadata": {
    "collapsed": false,
    "slideshow": {
     "slide_type": "slide"
    }
   },
   "outputs": [
    {
     "name": "stdout",
     "output_type": "stream",
     "text": [
      "wayne gotham\n"
     ]
    }
   ],
   "source": [
    "hero = ['batman', 'bruce', 'wayne', 'gotham']\n",
    "alias = hero[0]\n",
    "fname = hero[1]\n",
    "lname = hero[2]\n",
    "city = hero[3]\n",
    "\n",
    "\n",
    "print(lname, city)"
   ]
  },
  {
   "cell_type": "code",
   "execution_count": 43,
   "metadata": {
    "collapsed": false,
    "slideshow": {
     "slide_type": "fragment"
    }
   },
   "outputs": [
    {
     "name": "stdout",
     "output_type": "stream",
     "text": [
      "batman bruce\n"
     ]
    }
   ],
   "source": [
    "hero = ['batman', 'bruce', 'wayne', 'gotham']\n",
    "alias, fname, lname, city = hero\n",
    "\n",
    "print(alias, fname)"
   ]
  },
  {
   "cell_type": "code",
   "execution_count": 45,
   "metadata": {
    "collapsed": false,
    "slideshow": {
     "slide_type": "slide"
    }
   },
   "outputs": [
    {
     "name": "stdout",
     "output_type": "stream",
     "text": [
      "10\n",
      "11\n"
     ]
    }
   ],
   "source": [
    "batarangs = 10\n",
    "print(batarangs)\n",
    "\n",
    "batarangs = batarangs + 1\n",
    "print(batarangs)"
   ]
  },
  {
   "cell_type": "code",
   "execution_count": 46,
   "metadata": {
    "collapsed": false,
    "slideshow": {
     "slide_type": "slide"
    }
   },
   "outputs": [
    {
     "name": "stdout",
     "output_type": "stream",
     "text": [
      "10\n",
      "11\n"
     ]
    }
   ],
   "source": [
    "batarangs = 10\n",
    "print(batarangs)\n",
    "\n",
    "batarangs += 1\n",
    "print(batarangs)"
   ]
  },
  {
   "cell_type": "markdown",
   "metadata": {
    "collapsed": false,
    "slideshow": {
     "slide_type": "slide"
    }
   },
   "source": [
    "Augmented Assignment | Operator\n",
    "----------|----------\n",
    "heroes = heroes + 1  |  heroes += 1\n",
    "heroes = heroes - 1  |  heroes -= 1\n",
    "heroes = heroes * 1  |  heroes *= 1\n",
    "heroes = heroes / 1  |  heroes /= 1\n",
    "\n",
    "\n"
   ]
  },
  {
   "cell_type": "code",
   "execution_count": 47,
   "metadata": {
    "collapsed": false,
    "slideshow": {
     "slide_type": "slide"
    }
   },
   "outputs": [
    {
     "name": "stdout",
     "output_type": "stream",
     "text": [
      "hero villain\n"
     ]
    }
   ],
   "source": [
    "hero = 'hero'\n",
    "hero += ' villain'\n",
    "print(hero)"
   ]
  },
  {
   "cell_type": "code",
   "execution_count": 50,
   "metadata": {
    "collapsed": false,
    "slideshow": {
     "slide_type": "slide"
    }
   },
   "outputs": [
    {
     "name": "stdout",
     "output_type": "stream",
     "text": [
      "['batman', 'batman', 'batman', 'batman']\n"
     ]
    }
   ],
   "source": [
    "hero = ['batman']\n",
    "hero *= 4\n",
    "print(hero)"
   ]
  },
  {
   "cell_type": "markdown",
   "metadata": {
    "collapsed": false,
    "slideshow": {
     "slide_type": "slide"
    }
   },
   "source": [
    "<h2>Methods <<< awesome methods!</h2>"
   ]
  },
  {
   "cell_type": "code",
   "execution_count": 73,
   "metadata": {
    "collapsed": false,
    "slideshow": {
     "slide_type": "slide"
    }
   },
   "outputs": [
    {
     "name": "stdout",
     "output_type": "stream",
     "text": [
      "['wonder woman', 'zatanna']\n"
     ]
    },
    {
     "data": {
      "text/plain": [
       "1"
      ]
     },
     "execution_count": 73,
     "metadata": {},
     "output_type": "execute_result"
    }
   ],
   "source": [
    "heroines = ['wonder woman', 'zatanna']\n",
    "print(heroines)\n",
    "\n",
    "heroines.index('zatanna')"
   ]
  },
  {
   "cell_type": "markdown",
   "metadata": {
    "collapsed": false,
    "slideshow": {
     "slide_type": "slide"
    }
   },
   "source": [
    "<p style=\"font-family:courier\">\n",
    "\n",
    "hero.append()<br>\n",
    "hero.clear()<br>\n",
    "hero.copy()<br>\n",
    "hero.count()<br>\n",
    "hero.extend()<br>\n",
    "hero.index()<br>\n",
    "hero.insert()<br>\n",
    "hero.pop()<br>\n",
    "hero.remove()<br>\n",
    "hero.reverse()<br>\n",
    "hero.sort()<br>\n",
    "</p>"
   ]
  },
  {
   "cell_type": "code",
   "execution_count": 74,
   "metadata": {
    "collapsed": false,
    "slideshow": {
     "slide_type": "slide"
    }
   },
   "outputs": [
    {
     "name": "stdout",
     "output_type": "stream",
     "text": [
      "Help on built-in function append:\n",
      "\n",
      "append(...) method of builtins.list instance\n",
      "    L.append(object) -> None -- append object to end\n",
      "\n"
     ]
    }
   ],
   "source": [
    "help(hero.append)\n",
    "\n",
    "\n",
    "# Helpful hints...\n",
    "# 'L' stands for your variable name\n",
    "# '->' shows what this function returns as a return value\n",
    "# everything after the '--' is the help documentation\n"
   ]
  },
  {
   "cell_type": "code",
   "execution_count": 75,
   "metadata": {
    "collapsed": false,
    "slideshow": {
     "slide_type": "slide"
    }
   },
   "outputs": [
    {
     "name": "stdout",
     "output_type": "stream",
     "text": [
      "['wonder woman', 'zatanna', 'black canary']\n"
     ]
    }
   ],
   "source": [
    "heroines.append('black canary')\n",
    "print(heroines)\n"
   ]
  },
  {
   "cell_type": "code",
   "execution_count": 76,
   "metadata": {
    "collapsed": false,
    "slideshow": {
     "slide_type": "slide"
    }
   },
   "outputs": [
    {
     "name": "stdout",
     "output_type": "stream",
     "text": [
      "['wonder woman', 'zatanna', 'black canary', ['raven', 'cir-el']]\n"
     ]
    }
   ],
   "source": [
    "heroines.append(['raven', 'cir-el'])\n",
    "print(heroines)"
   ]
  },
  {
   "cell_type": "code",
   "execution_count": 77,
   "metadata": {
    "collapsed": false,
    "slideshow": {
     "slide_type": "slide"
    }
   },
   "outputs": [
    {
     "name": "stdout",
     "output_type": "stream",
     "text": [
      "['wonder woman', 'zatanna', 'black canary']\n"
     ]
    }
   ],
   "source": [
    "del heroines[3]\n",
    "print(heroines)"
   ]
  },
  {
   "cell_type": "code",
   "execution_count": 78,
   "metadata": {
    "collapsed": false,
    "slideshow": {
     "slide_type": "slide"
    }
   },
   "outputs": [
    {
     "name": "stdout",
     "output_type": "stream",
     "text": [
      "['wonder woman', 'zatanna', 'black canary', 'raven', 'cir-el']\n"
     ]
    }
   ],
   "source": [
    "heroines.extend(['raven', 'cir-el'])\n",
    "print(heroines)"
   ]
  },
  {
   "cell_type": "code",
   "execution_count": 79,
   "metadata": {
    "collapsed": false,
    "slideshow": {
     "slide_type": "slide"
    }
   },
   "outputs": [
    {
     "name": "stdout",
     "output_type": "stream",
     "text": [
      "Help on built-in function sort:\n",
      "\n",
      "sort(...) method of builtins.list instance\n",
      "    L.sort(key=None, reverse=False) -> None -- stable sort *IN PLACE*\n",
      "\n"
     ]
    }
   ],
   "source": [
    "help(hero.sort)"
   ]
  },
  {
   "cell_type": "code",
   "execution_count": 81,
   "metadata": {
    "collapsed": false,
    "slideshow": {
     "slide_type": "fragment"
    }
   },
   "outputs": [
    {
     "name": "stdout",
     "output_type": "stream",
     "text": [
      "['black canary', 'cir-el', 'raven', 'wonder woman', 'zatanna']\n"
     ]
    }
   ],
   "source": [
    "heroines.sort()\n",
    "print(heroines)\n",
    "\n",
    "# note: this sorts in ascii-betical order"
   ]
  },
  {
   "cell_type": "code",
   "execution_count": 83,
   "metadata": {
    "collapsed": false,
    "slideshow": {
     "slide_type": "slide"
    }
   },
   "outputs": [
    {
     "name": "stdout",
     "output_type": "stream",
     "text": [
      "['C', 'E', 'a', 'b', 'd']\n"
     ]
    }
   ],
   "source": [
    "junk = ['a', 'b', 'C', 'd', 'E']\n",
    "junk.sort()\n",
    "print(junk)"
   ]
  },
  {
   "cell_type": "code",
   "execution_count": 84,
   "metadata": {
    "collapsed": false,
    "slideshow": {
     "slide_type": "skip"
    }
   },
   "outputs": [
    {
     "name": "stdout",
     "output_type": "stream",
     "text": [
      "['a', 'b', 'C', 'd', 'E']\n"
     ]
    }
   ],
   "source": [
    "junk = ['a', 'b', 'C', 'd', 'E']\n",
    "junk.sort(key=str.lower)\n",
    "print(junk)"
   ]
  },
  {
   "cell_type": "markdown",
   "metadata": {
    "collapsed": true,
    "slideshow": {
     "slide_type": "skip"
    }
   },
   "source": [
    "<h2>Mutable vs. Immutable data types</h2>"
   ]
  },
  {
   "cell_type": "code",
   "execution_count": null,
   "metadata": {
    "collapsed": true,
    "slideshow": {
     "slide_type": "skip"
    }
   },
   "outputs": [],
   "source": [
    "hero = 'Batman in Gotham'\n"
   ]
  },
  {
   "cell_type": "code",
   "execution_count": null,
   "metadata": {
    "collapsed": true,
    "slideshow": {
     "slide_type": "skip"
    }
   },
   "outputs": [],
   "source": []
  },
  {
   "cell_type": "code",
   "execution_count": null,
   "metadata": {
    "collapsed": true,
    "slideshow": {
     "slide_type": "skip"
    }
   },
   "outputs": [],
   "source": []
  },
  {
   "cell_type": "code",
   "execution_count": null,
   "metadata": {
    "collapsed": true,
    "slideshow": {
     "slide_type": "skip"
    }
   },
   "outputs": [],
   "source": []
  }
 ],
 "metadata": {
  "celltoolbar": "Slideshow",
  "kernelspec": {
   "display_name": "Python 3",
   "language": "python",
   "name": "python3"
  },
  "language_info": {
   "codemirror_mode": {
    "name": "ipython",
    "version": 3
   },
   "file_extension": ".py",
   "mimetype": "text/x-python",
   "name": "python",
   "nbconvert_exporter": "python",
   "pygments_lexer": "ipython3",
   "version": "3.4.3"
  }
 },
 "nbformat": 4,
 "nbformat_minor": 0
}
