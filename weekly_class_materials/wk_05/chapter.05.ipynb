{
 "cells": [
  {
   "cell_type": "markdown",
   "metadata": {
    "slideshow": {
     "slide_type": "slide"
    }
   },
   "source": [
    "<h1>Welcome to the Dark Art of Coding:</h1>\n",
    "<h2>Introduction to Python</h2>\n",
    "Chapter 05: Dictionaries and other data"
   ]
  },
  {
   "cell_type": "markdown",
   "metadata": {
    "slideshow": {
     "slide_type": "slide"
    }
   },
   "source": [
    "<h1>Today's class</h1>\n",
    "<ul>\n",
    "<li><strong>Review and Questions?</strong></li>\n",
    "<li><strong>Objectives:</strong></li>\n",
    "<ul>\n",
    "    <li><strong>What is a dictionary?</strong></li>\n",
    "</ul>\n",
    "<li><strong>In-class Practice</strong></li>\n",
    "</ul>"
   ]
  },
  {
   "cell_type": "markdown",
   "metadata": {
    "slideshow": {
     "slide_type": "slide"
    }
   },
   "source": [
    "<h1>Review and Questions?</h1>\n",
    "<ul>\n",
    "<li><strong>Lists</strong></li>\n",
    "<ul>\n",
    "    <li><strong>List indexes</strong></li>\n",
    "    <li><strong>Using lists</strong></li>\n",
    "    <li><strong>Augmented assignment</strong></li>\n",
    "</ul>\n",
    "<li><strong>Methods</strong></li>\n",
    "</ul>"
   ]
  },
  {
   "cell_type": "markdown",
   "metadata": {
    "slideshow": {
     "slide_type": "slide"
    }
   },
   "source": [
    "<h1>What is a dictionary?</h1>"
   ]
  },
  {
   "cell_type": "code",
   "execution_count": 1,
   "metadata": {
    "collapsed": false,
    "slideshow": {
     "slide_type": "slide"
    }
   },
   "outputs": [
    {
     "data": {
      "text/plain": [
       "'Gold Sword'"
      ]
     },
     "execution_count": 1,
     "metadata": {},
     "output_type": "execute_result"
    }
   ],
   "source": [
    "character = {'name': 'Krieg', 'weapon': 'Gold Sword', 'armor': 'Steel Armor'}\n",
    "character['weapon']"
   ]
  },
  {
   "cell_type": "markdown",
   "metadata": {
    "slideshow": {
     "slide_type": "slide"
    }
   },
   "source": [
    "<h1>lists vs. dicts</h1>"
   ]
  },
  {
   "cell_type": "code",
   "execution_count": 2,
   "metadata": {
    "collapsed": false,
    "slideshow": {
     "slide_type": "subslide"
    }
   },
   "outputs": [
    {
     "name": "stdout",
     "output_type": "stream",
     "text": [
      "Krieg\n"
     ]
    }
   ],
   "source": [
    "character_list = ['Krieg', 'gold sword', 'steel armor']\n",
    "print(character_list[0])"
   ]
  },
  {
   "cell_type": "code",
   "execution_count": 3,
   "metadata": {
    "collapsed": false,
    "slideshow": {
     "slide_type": "fragment"
    }
   },
   "outputs": [
    {
     "name": "stdout",
     "output_type": "stream",
     "text": [
      "Krieg\n"
     ]
    }
   ],
   "source": [
    "character_dict = {'name': 'Krieg', 'weapon': 'gold sword', 'armor': 'steel armor'}\n",
    "print(character_dict['name'])"
   ]
  },
  {
   "cell_type": "code",
   "execution_count": 4,
   "metadata": {
    "collapsed": false,
    "slideshow": {
     "slide_type": "slide"
    }
   },
   "outputs": [
    {
     "name": "stdout",
     "output_type": "stream",
     "text": [
      "Are these lists the same:  False\n"
     ]
    }
   ],
   "source": [
    "ex_list1 = ['val1', 'val2']\n",
    "ex_list2 = ['val2', 'val1']\n",
    "print('Are these lists the same: ', ex_list1 == ex_list2)"
   ]
  },
  {
   "cell_type": "code",
   "execution_count": 5,
   "metadata": {
    "collapsed": false,
    "slideshow": {
     "slide_type": "fragment"
    }
   },
   "outputs": [
    {
     "name": "stdout",
     "output_type": "stream",
     "text": [
      "Are these dicts the same:  True\n"
     ]
    }
   ],
   "source": [
    "ex_dict1 = {'key1': 'val1', 'key2': 'val2'}\n",
    "ex_dict2 = {'key2': 'val2', 'key1': 'val1'}\n",
    "print('Are these dicts the same: ', ex_dict1 == ex_dict2)"
   ]
  },
  {
   "cell_type": "code",
   "execution_count": 6,
   "metadata": {
    "collapsed": false,
    "slideshow": {
     "slide_type": "slide"
    }
   },
   "outputs": [
    {
     "ename": "KeyError",
     "evalue": "'spells'",
     "output_type": "error",
     "traceback": [
      "\u001b[1;31m---------------------------------------------------------------------------\u001b[0m",
      "\u001b[1;31mKeyError\u001b[0m                                  Traceback (most recent call last)",
      "\u001b[1;32m<ipython-input-6-74d1fc501ea6>\u001b[0m in \u001b[0;36m<module>\u001b[1;34m()\u001b[0m\n\u001b[1;32m----> 1\u001b[1;33m \u001b[0mcharacter\u001b[0m\u001b[1;33m[\u001b[0m\u001b[1;34m'spells'\u001b[0m\u001b[1;33m]\u001b[0m\u001b[1;33m\u001b[0m\u001b[0m\n\u001b[0m",
      "\u001b[1;31mKeyError\u001b[0m: 'spells'"
     ]
    }
   ],
   "source": [
    "character['spells']"
   ]
  },
  {
   "cell_type": "code",
   "execution_count": 7,
   "metadata": {
    "collapsed": false,
    "slideshow": {
     "slide_type": "subslide"
    }
   },
   "outputs": [
    {
     "data": {
      "text/plain": [
       "['fireball', 'lightning', 'summon dragon']"
      ]
     },
     "execution_count": 7,
     "metadata": {},
     "output_type": "execute_result"
    }
   ],
   "source": [
    "character['spells'] = ['fireball', 'lightning', 'summon dragon']\n",
    "character['spells']"
   ]
  },
  {
   "cell_type": "code",
   "execution_count": 8,
   "metadata": {
    "collapsed": false,
    "slideshow": {
     "slide_type": "slide"
    }
   },
   "outputs": [
    {
     "name": "stdout",
     "output_type": "stream",
     "text": [
      "dict_keys(['weapon', 'spells', 'armor', 'name'])\n"
     ]
    }
   ],
   "source": [
    "print(character.keys())"
   ]
  },
  {
   "cell_type": "code",
   "execution_count": 9,
   "metadata": {
    "collapsed": false,
    "slideshow": {
     "slide_type": "fragment"
    }
   },
   "outputs": [
    {
     "name": "stdout",
     "output_type": "stream",
     "text": [
      "dict_values(['Gold Sword', ['fireball', 'lightning', 'summon dragon'], 'Steel Armor', 'Krieg'])\n"
     ]
    }
   ],
   "source": [
    "print(character.values())"
   ]
  },
  {
   "cell_type": "code",
   "execution_count": 10,
   "metadata": {
    "collapsed": false,
    "slideshow": {
     "slide_type": "fragment"
    }
   },
   "outputs": [
    {
     "name": "stdout",
     "output_type": "stream",
     "text": [
      "dict_items([('weapon', 'Gold Sword'), ('spells', ['fireball', 'lightning', 'summon dragon']), ('armor', 'Steel Armor'), ('name', 'Krieg')])\n"
     ]
    }
   ],
   "source": [
    "print(character.items())"
   ]
  },
  {
   "cell_type": "code",
   "execution_count": 11,
   "metadata": {
    "collapsed": false,
    "slideshow": {
     "slide_type": "slide"
    }
   },
   "outputs": [
    {
     "data": {
      "text/plain": [
       "'Gold Sword'"
      ]
     },
     "execution_count": 11,
     "metadata": {},
     "output_type": "execute_result"
    }
   ],
   "source": [
    "character['weapon']"
   ]
  },
  {
   "cell_type": "code",
   "execution_count": 12,
   "metadata": {
    "collapsed": false,
    "slideshow": {
     "slide_type": "fragment"
    }
   },
   "outputs": [
    {
     "ename": "KeyError",
     "evalue": "'gold'",
     "output_type": "error",
     "traceback": [
      "\u001b[1;31m---------------------------------------------------------------------------\u001b[0m",
      "\u001b[1;31mKeyError\u001b[0m                                  Traceback (most recent call last)",
      "\u001b[1;32m<ipython-input-12-bf392603694a>\u001b[0m in \u001b[0;36m<module>\u001b[1;34m()\u001b[0m\n\u001b[1;32m----> 1\u001b[1;33m \u001b[0mcharacter\u001b[0m\u001b[1;33m[\u001b[0m\u001b[1;34m'gold'\u001b[0m\u001b[1;33m]\u001b[0m\u001b[1;33m\u001b[0m\u001b[0m\n\u001b[0m",
      "\u001b[1;31mKeyError\u001b[0m: 'gold'"
     ]
    }
   ],
   "source": [
    "character['gold']"
   ]
  },
  {
   "cell_type": "code",
   "execution_count": 13,
   "metadata": {
    "collapsed": false,
    "slideshow": {
     "slide_type": "subslide"
    }
   },
   "outputs": [
    {
     "data": {
      "text/plain": [
       "'You have no money'"
      ]
     },
     "execution_count": 13,
     "metadata": {},
     "output_type": "execute_result"
    }
   ],
   "source": [
    "character.get('gold', 'You have no money')"
   ]
  },
  {
   "cell_type": "code",
   "execution_count": 14,
   "metadata": {
    "collapsed": false,
    "slideshow": {
     "slide_type": "fragment"
    }
   },
   "outputs": [
    {
     "ename": "KeyError",
     "evalue": "'gold'",
     "output_type": "error",
     "traceback": [
      "\u001b[1;31m---------------------------------------------------------------------------\u001b[0m",
      "\u001b[1;31mKeyError\u001b[0m                                  Traceback (most recent call last)",
      "\u001b[1;32m<ipython-input-14-bf392603694a>\u001b[0m in \u001b[0;36m<module>\u001b[1;34m()\u001b[0m\n\u001b[1;32m----> 1\u001b[1;33m \u001b[0mcharacter\u001b[0m\u001b[1;33m[\u001b[0m\u001b[1;34m'gold'\u001b[0m\u001b[1;33m]\u001b[0m\u001b[1;33m\u001b[0m\u001b[0m\n\u001b[0m",
      "\u001b[1;31mKeyError\u001b[0m: 'gold'"
     ]
    }
   ],
   "source": [
    "character['gold']"
   ]
  },
  {
   "cell_type": "code",
   "execution_count": 15,
   "metadata": {
    "collapsed": false,
    "slideshow": {
     "slide_type": "slide"
    }
   },
   "outputs": [
    {
     "name": "stdout",
     "output_type": "stream",
     "text": [
      "0\n"
     ]
    }
   ],
   "source": [
    "character.setdefault('gold', 0)\n",
    "print(character['gold'])"
   ]
  },
  {
   "cell_type": "code",
   "execution_count": 16,
   "metadata": {
    "collapsed": false,
    "slideshow": {
     "slide_type": "fragment"
    }
   },
   "outputs": [
    {
     "name": "stdout",
     "output_type": "stream",
     "text": [
      "0\n"
     ]
    }
   ],
   "source": [
    "character.setdefault('gold', 50)\n",
    "print(character['gold'])"
   ]
  },
  {
   "cell_type": "code",
   "execution_count": 17,
   "metadata": {
    "collapsed": false,
    "slideshow": {
     "slide_type": "slide"
    }
   },
   "outputs": [
    {
     "name": "stdout",
     "output_type": "stream",
     "text": [
      "{'weapon': 'Gold Sword', 'gold': 0, 'spells': ['fireball', 'lightning', 'summon dragon'], 'armor': 'Steel Armor', 'name': 'Krieg'}\n"
     ]
    }
   ],
   "source": [
    "print(character)"
   ]
  },
  {
   "cell_type": "code",
   "execution_count": 18,
   "metadata": {
    "collapsed": false,
    "slideshow": {
     "slide_type": "fragment"
    }
   },
   "outputs": [
    {
     "name": "stdout",
     "output_type": "stream",
     "text": [
      "{'armor': 'Steel Armor',\n",
      " 'gold': 0,\n",
      " 'name': 'Krieg',\n",
      " 'spells': ['fireball', 'lightning', 'summon dragon'],\n",
      " 'weapon': 'Gold Sword'}\n"
     ]
    }
   ],
   "source": [
    "import pprint\n",
    "pprint.pprint(character)"
   ]
  },
  {
   "cell_type": "code",
   "execution_count": 19,
   "metadata": {
    "collapsed": false,
    "slideshow": {
     "slide_type": "fragment"
    }
   },
   "outputs": [
    {
     "name": "stdout",
     "output_type": "stream",
     "text": [
      "{'armor': 'Steel Armor',\n",
      " 'gold': 0,\n",
      " 'name': 'Krieg',\n",
      " 'spells': ['fireball', 'lightning', 'summon dragon'],\n",
      " 'weapon': 'Gold Sword'}\n"
     ]
    }
   ],
   "source": [
    "text = pprint.pformat(character)\n",
    "print(text)"
   ]
  },
  {
   "cell_type": "markdown",
   "metadata": {
    "slideshow": {
     "slide_type": "slide"
    }
   },
   "source": [
    "<h1>Project time!</h1>\n",
    "<strong>Building a Tic-Tac-Toe game!</strong>"
   ]
  },
  {
   "cell_type": "code",
   "execution_count": 31,
   "metadata": {
    "collapsed": true,
    "slideshow": {
     "slide_type": "slide"
    }
   },
   "outputs": [],
   "source": [
    "the_board = {'top-L': ' ', 'top-M': ' ', 'top-R': ' ',\n",
    "             'mid-L': ' ', 'mid-M': ' ', 'mid-R': ' ',\n",
    "             'bot-L': ' ', 'bot-M': ' ', 'bot-R': ' '}"
   ]
  },
  {
   "cell_type": "code",
   "execution_count": 28,
   "metadata": {
    "collapsed": false,
    "slideshow": {
     "slide_type": "fragment"
    }
   },
   "outputs": [
    {
     "name": "stdout",
     "output_type": "stream",
     "text": [
      " | | \n",
      "-+-+-\n",
      " | | \n",
      "-+-+-\n",
      " | | \n"
     ]
    }
   ],
   "source": [
    "def printBoard(board):\n",
    "    print(board['top-L'] + '|' + board['top-M'] + '|' + board['top-R'])\n",
    "    print('-+-+-')\n",
    "    print(board['mid-L'] + '|' + board['mid-M'] + '|' + board['mid-R'])\n",
    "    print('-+-+-')\n",
    "    print(board['bot-L'] + '|' + board['bot-M'] + '|' + board['bot-R'])\n",
    "\n",
    "printBoard(the_board)"
   ]
  },
  {
   "cell_type": "code",
   "execution_count": 32,
   "metadata": {
    "collapsed": false,
    "slideshow": {
     "slide_type": "fragment"
    }
   },
   "outputs": [
    {
     "name": "stdout",
     "output_type": "stream",
     "text": [
      " | | \n",
      "-+-+-\n",
      " | | \n",
      "-+-+-\n",
      " | | \n",
      "Turn for X. Move on which space?\n",
      "top-L\n",
      "\n",
      "X| | \n",
      "-+-+-\n",
      " | | \n",
      "-+-+-\n",
      " | | \n",
      "Turn for O. Move on which space?\n",
      "bot-R\n",
      "\n",
      "X| | \n",
      "-+-+-\n",
      " | | \n",
      "-+-+-\n",
      " | |O\n",
      "Turn for X. Move on which space?\n",
      "top-R\n",
      "\n",
      "X| |X\n",
      "-+-+-\n",
      " | | \n",
      "-+-+-\n",
      " | |O\n",
      "Turn for O. Move on which space?\n",
      "top-M\n",
      "\n",
      "X|O|X\n",
      "-+-+-\n",
      " | | \n",
      "-+-+-\n",
      " | |O\n",
      "Turn for X. Move on which space?\n",
      "mid-M\n",
      "\n",
      "X|O|X\n",
      "-+-+-\n",
      " |X| \n",
      "-+-+-\n",
      " | |O\n",
      "Turn for O. Move on which space?\n",
      "bot-L\n",
      "\n",
      "X|O|X\n",
      "-+-+-\n",
      " |X| \n",
      "-+-+-\n",
      "O| |O\n",
      "Turn for X. Move on which space?\n",
      "bot-M\n",
      "\n",
      "X|O|X\n",
      "-+-+-\n",
      " |X| \n",
      "-+-+-\n",
      "O|X|O\n",
      "Turn for O. Move on which space?\n",
      "mid-L\n",
      "\n",
      "X|O|X\n",
      "-+-+-\n",
      "O|X| \n",
      "-+-+-\n",
      "O|X|O\n",
      "Turn for X. Move on which space?\n",
      "mid-R\n",
      "\n",
      "X|O|X\n",
      "-+-+-\n",
      "O|X|X\n",
      "-+-+-\n",
      "O|X|O\n"
     ]
    }
   ],
   "source": [
    "turn = 'X'\n",
    "for i in range(9):\n",
    "    printBoard(the_board)\n",
    "    print('Turn for ' + turn + '. Move on which space?')\n",
    "    move = input()\n",
    "    print()\n",
    "    the_board[move] = turn\n",
    "    if turn == 'X':\n",
    "        turn = 'O'\n",
    "    else:\n",
    "        turn = 'X'\n",
    "printBoard(the_board)"
   ]
  },
  {
   "cell_type": "code",
   "execution_count": null,
   "metadata": {
    "collapsed": true
   },
   "outputs": [],
   "source": []
  }
 ],
 "metadata": {
  "celltoolbar": "Slideshow",
  "kernelspec": {
   "display_name": "Python 3",
   "language": "python",
   "name": "python3"
  },
  "language_info": {
   "codemirror_mode": {
    "name": "ipython",
    "version": 3
   },
   "file_extension": ".py",
   "mimetype": "text/x-python",
   "name": "python",
   "nbconvert_exporter": "python",
   "pygments_lexer": "ipython3",
   "version": "3.4.3"
  }
 },
 "nbformat": 4,
 "nbformat_minor": 0
}
